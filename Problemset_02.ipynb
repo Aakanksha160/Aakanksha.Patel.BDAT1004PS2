{
 "cells": [
  {
   "cell_type": "code",
   "execution_count": 1,
   "id": "59c46f7d",
   "metadata": {},
   "outputs": [],
   "source": [
    "# Question 1 \n",
    "\n",
    "a = 0\n",
    "\n",
    "def b():\n",
    "    global a\n",
    "    a = c(a)\n",
    "\n",
    "def c(a):\n",
    "    return a + 2"
   ]
  },
  {
   "cell_type": "code",
   "execution_count": 2,
   "id": "2b26aba9",
   "metadata": {},
   "outputs": [],
   "source": [
    "# Calling b() function three times\n",
    "\n",
    "b()\n",
    "b()\n",
    "b()"
   ]
  },
  {
   "cell_type": "code",
   "execution_count": 3,
   "id": "2a9cc83c",
   "metadata": {},
   "outputs": [
    {
     "name": "stdout",
     "output_type": "stream",
     "text": [
      "6\n"
     ]
    }
   ],
   "source": [
    "#Value of a\n",
    "\n",
    "print(a)"
   ]
  },
  {
   "cell_type": "code",
   "execution_count": null,
   "id": "d04e5ddd",
   "metadata": {},
   "outputs": [],
   "source": [
    "#  the execution in the interpreter:\n",
    "\n",
    "# 1. b(): When b() is called, it updates the global variable a by assigning it the value returned by c(a).\n",
    "\n",
    "# 2. b(): The second call to b() again updates the global variable a by assigning it the value returned by c(a). At this point, \n",
    "# a is incremented by 2, resulting in a being 4.\n",
    "\n",
    "# 3. b(): Similarly, the third call to b() updates the global variable a by assigning it the value returned by c(a). \n",
    "#Now, a is incremented by 2 again, resulting in a being 6.\n",
    "\n",
    "# 4. a: Finally, when a is evaluated in the last expression, it returns the value of the global variable a, which is 6.\n",
    "    \n",
    "    \n",
    "# explanation for the above code:\n",
    "\n",
    "# Explanation:\n",
    "\n",
    "# The module defines three components: the variable a, the function b(), and the function c(a).\n",
    "\n",
    "# Initially, the variable a is assigned the value 0.\n",
    "\n",
    "# The function b() is defined to modify the global variable a. It first declares a as a global variable using the global keyword. \n",
    "# Then it assigns the value returned by c(a) to the global variable a.\n",
    "\n",
    "# The function c(a) takes an argument a and returns the value of a + 2. It simply adds 2 to the input value."
   ]
  },
  {
   "cell_type": "code",
   "execution_count": 4,
   "id": "8915b5a2",
   "metadata": {},
   "outputs": [],
   "source": [
    "# Question 2\n",
    "\n",
    "def fileLength(midterm):\n",
    "        try:\n",
    "            infile = open(midterm)\n",
    "            contents = infile.read()\n",
    "            infile.close()\n",
    "            return len(contents)\n",
    "        except FileNotFoundError:\n",
    "            print(f\"File {midterm} not found.\")"
   ]
  },
  {
   "cell_type": "code",
   "execution_count": 5,
   "id": "95b2966d",
   "metadata": {},
   "outputs": [
    {
     "data": {
      "text/plain": [
       "123"
      ]
     },
     "execution_count": 5,
     "metadata": {},
     "output_type": "execute_result"
    }
   ],
   "source": [
    "fileLength(r\"C:\\Users\\Dell\\Downloads\\midterm.txt\")"
   ]
  },
  {
   "cell_type": "code",
   "execution_count": 6,
   "id": "69c2381e",
   "metadata": {},
   "outputs": [
    {
     "name": "stdout",
     "output_type": "stream",
     "text": [
      "File C:\\Users\\Dell\\Downloads\\idterm.txt not found.\n"
     ]
    }
   ],
   "source": [
    "fileLength(r\"C:\\Users\\Dell\\Downloads\\idterm.txt\")"
   ]
  },
  {
   "cell_type": "code",
   "execution_count": 7,
   "id": "fa7a5352",
   "metadata": {},
   "outputs": [],
   "source": [
    "# Question 3\n",
    "# a) extends the Marsupial  __init__ constructor to take, as input, the coordinates x and y of the Kangaroo object\n",
    "# b) supports method jump that takes number values dx and dy as input and moves the kangaroo by dx units along the x-axis \n",
    "# and by dy units along the y- axis\n",
    "# c) overloads the __str__ operator so it behaves as shown below in output. \n",
    "\n",
    "class Marsupial:\n",
    "    def __init__(self):\n",
    "        self.pouch = []\n",
    "\n",
    "    def put_in_pouch(self, item):\n",
    "        self.pouch.append(item)\n",
    "\n",
    "    def pouch_contents(self):\n",
    "        return self.pouch\n",
    "\n",
    "\n",
    "class Kangaroo(Marsupial):\n",
    "    def __init__(self, x, y):\n",
    "        super().__init__()\n",
    "        self.x = x\n",
    "        self.y = y\n",
    "\n",
    "    def jump(self, dx, dy):\n",
    "        self.x += dx\n",
    "        self.y += dy\n",
    "\n",
    "    def __str__(self):\n",
    "        return \"I am a Kangaroo located at coordinates ({}, {})\".format(self.x, self.y)\n"
   ]
  },
  {
   "cell_type": "code",
   "execution_count": 8,
   "id": "ed0dee4e",
   "metadata": {},
   "outputs": [
    {
     "name": "stdout",
     "output_type": "stream",
     "text": [
      "['doll', 'firetruck', 'kitten']\n",
      "I am a Kangaroo located at coordinates (0, 0)\n",
      "['doll', 'firetruck', 'kitten']\n",
      "I am a Kangaroo located at coordinates (3, 0)\n"
     ]
    }
   ],
   "source": [
    "# Test the function\n",
    "\n",
    "m = Marsupial()\n",
    "m.put_in_pouch('doll')\n",
    "m.put_in_pouch('firetruck')\n",
    "m.put_in_pouch('kitten')\n",
    "print(m.pouch_contents())  \n",
    "\n",
    "k = Kangaroo(0, 0)\n",
    "print(k)  \n",
    "k.put_in_pouch('doll')\n",
    "k.put_in_pouch('firetruck')\n",
    "k.put_in_pouch('kitten')\n",
    "print(k.pouch_contents())  \n",
    "k.jump(1, 0)\n",
    "k.jump(1, 0)\n",
    "k.jump(1, 0)\n",
    "print(k) "
   ]
  },
  {
   "cell_type": "code",
   "execution_count": 9,
   "id": "2b6b0315",
   "metadata": {},
   "outputs": [],
   "source": [
    "# Question 4\n",
    "\n",
    "def collatz(x):\n",
    "    print(x)\n",
    "    if x == 1:\n",
    "        return\n",
    "    elif x % 2 == 0:\n",
    "        collatz(x // 2)\n",
    "    else:\n",
    "        collatz(3 * x + 1)"
   ]
  },
  {
   "cell_type": "code",
   "execution_count": 10,
   "id": "25740c67",
   "metadata": {},
   "outputs": [
    {
     "name": "stdout",
     "output_type": "stream",
     "text": [
      "1\n",
      "10\n",
      "5\n",
      "16\n",
      "8\n",
      "4\n",
      "2\n",
      "1\n"
     ]
    }
   ],
   "source": [
    "# Test the function\n",
    "\n",
    "collatz(1)   \n",
    "collatz(10)"
   ]
  },
  {
   "cell_type": "code",
   "execution_count": 11,
   "id": "c1d65555",
   "metadata": {},
   "outputs": [],
   "source": [
    "# Question 5\n",
    "\n",
    "def binary(n):\n",
    "    if n == 0:\n",
    "        return '0'\n",
    "    elif n == 1:\n",
    "        return '1'\n",
    "    else:\n",
    "        return binary(n // 2) + str(n % 2)"
   ]
  },
  {
   "cell_type": "code",
   "execution_count": 12,
   "id": "6e4b7119",
   "metadata": {},
   "outputs": [
    {
     "name": "stdout",
     "output_type": "stream",
     "text": [
      "0\n",
      "1\n",
      "11\n",
      "1001\n"
     ]
    }
   ],
   "source": [
    "# Test the function\n",
    "\n",
    "print(binary(0))   \n",
    "print(binary(1))   \n",
    "print(binary(3)) \n",
    "print(binary(9))"
   ]
  },
  {
   "cell_type": "code",
   "execution_count": 13,
   "id": "4cbbaa9f",
   "metadata": {},
   "outputs": [
    {
     "name": "stdout",
     "output_type": "stream",
     "text": [
      "W3C Mission\n",
      "  Principles\n"
     ]
    }
   ],
   "source": [
    "# Question 6\n",
    "\n",
    "from html.parser import HTMLParser\n",
    "\n",
    "\n",
    "class HeadingParser(HTMLParser):\n",
    "    def __init__(self):\n",
    "        super().__init__()\n",
    "        self.heading_level = 0\n",
    "        self.is_heading = False\n",
    "\n",
    "    def handle_starttag(self, tag, attrs):\n",
    "        if tag == 'h1':\n",
    "            self.heading_level = 1\n",
    "            self.is_heading = True\n",
    "        elif tag == 'h2':\n",
    "            self.heading_level = 2\n",
    "            self.is_heading = True\n",
    "        else:\n",
    "            self.is_heading = False\n",
    "\n",
    "    def handle_data(self, data):\n",
    "        if self.is_heading:\n",
    "            indent = '  ' * (self.heading_level - 1)\n",
    "            heading_text = data.strip()\n",
    "            if heading_text:\n",
    "                print(f\"{indent}{heading_text}\")\n",
    "\n",
    "\n",
    "# Test the class\n",
    "file_path = r\"C:\\Users\\Dell\\Downloads\\w3c.txt\"\n",
    "with open(file_path, 'r') as infile:\n",
    "    content = infile.read()\n",
    "\n",
    "hp = HeadingParser()\n",
    "hp.feed(content)\n"
   ]
  },
  {
   "cell_type": "code",
   "execution_count": 14,
   "id": "91875e86",
   "metadata": {},
   "outputs": [
    {
     "name": "stdout",
     "output_type": "stream",
     "text": [
      "http://reed.cs.depaul.edu/lperkovic/csc242/test1.html\n"
     ]
    }
   ],
   "source": [
    "# Question 7\n",
    "\n",
    "import requests\n",
    "from bs4 import BeautifulSoup\n",
    "\n",
    "\n",
    "def get_links_from_page(url):\n",
    "    response = requests.get(url)\n",
    "    soup = BeautifulSoup(response.content, 'html.parser')\n",
    "    links = [link.get('href') for link in soup.find_all('a', href=True)]\n",
    "    return links\n",
    "\n",
    "\n",
    "def webdir(url, depth, indent):\n",
    "    if depth < 0:\n",
    "        return\n",
    "\n",
    "    links = get_links_from_page(url)\n",
    "\n",
    "    indent_str = '  ' * indent\n",
    "    print(f\"{indent_str}{url}\")\n",
    "\n",
    "    for link in links:\n",
    "        if link.startswith('http'):\n",
    "            webdir(link, depth - 1, indent + 1)\n",
    "\n",
    "\n",
    "# function testing\n",
    "starting_url = 'http://reed.cs.depaul.edu/lperkovic/csc242/test1.html'\n",
    "webdir(starting_url, depth=2, indent=0)\n"
   ]
  },
  {
   "cell_type": "code",
   "execution_count": 15,
   "id": "fec78cee",
   "metadata": {},
   "outputs": [
    {
     "name": "stdout",
     "output_type": "stream",
     "text": [
      "All the temperature data.\n",
      "(24.8,)\n",
      "(28.4,)\n",
      "(27.9,)\n",
      "(27.6,)\n",
      "(4.2,)\n",
      "(8.3,)\n",
      "(15.7,)\n",
      "(10.4,)\n",
      "(13.6,)\n",
      "(20.7,)\n",
      "(27.7,)\n",
      "(22.2,)\n",
      "\n",
      "All the cities, but without repetition.\n",
      "('Mumbai',)\n",
      "('London',)\n",
      "('Cairo',)\n",
      "\n",
      "All the records for India.\n",
      "('Mumbai', 'India', 'Winter', 24.8, 5.9)\n",
      "('Mumbai', 'India', 'Spring', 28.4, 16.2)\n",
      "('Mumbai', 'India', 'Summer', 27.9, 1549.4)\n",
      "('Mumbai', 'India', 'Fall', 27.6, 346.0)\n",
      "\n",
      "All the Fall records.\n",
      "('Mumbai', 'India', 'Fall', 27.6, 346.0)\n",
      "('London', 'United Kingdom', 'Fall', 10.4, 218.5)\n",
      "('Cairo', 'Egypt', 'Fall', 22.2, 4.5)\n",
      "\n",
      "The city, country, and season for which the average rainfall is between 200 and 400 millimeters.\n",
      "('Mumbai', 'India', 'Fall')\n",
      "('London', 'United Kingdom', 'Winter')\n",
      "('London', 'United Kingdom', 'Fall')\n",
      "\n",
      "The city and country for which the average Fall temperature is above 20 degrees, in increasing temperature order.\n",
      "('Cairo', 'Egypt')\n",
      "('Mumbai', 'India')\n",
      "\n",
      "The total annual rainfall for Cairo.\n",
      "(27.6,)\n",
      "\n",
      "The total rainfall for each season.\n",
      "('Fall', 569.0)\n",
      "('Spring', 192.29999999999998)\n",
      "('Summer', 1706.5)\n",
      "('Winter', 230.1)\n",
      "\n"
     ]
    }
   ],
   "source": [
    "# Question 8\n",
    "\n",
    "import pandas as pd\n",
    "import sqlite3\n",
    "\n",
    "# Read the dataset from the CSV file\n",
    "df = pd.read_csv(r\"C:\\Users\\Dell\\Downloads\\dataset.csv\")\n",
    "\n",
    "# Create a SQLite in-memory database\n",
    "conn = sqlite3.connect(\":memory:\")\n",
    "\n",
    "# Write the DataFrame to a SQLite table\n",
    "df.to_sql(\"table_name\", conn, index=False)\n",
    "\n",
    "# SQL queries and their corresponding questions\n",
    "queries = [\n",
    "    (\"SELECT `Temperature (C)` FROM table_name;\", \"All the temperature data.\"),\n",
    "    (\"SELECT DISTINCT `City` FROM table_name;\", \"All the cities, but without repetition.\"),\n",
    "    (\"SELECT * FROM table_name WHERE `Country` = 'India';\", \"All the records for India.\"),\n",
    "    (\"SELECT * FROM table_name WHERE `Season` = 'Fall';\", \"All the Fall records.\"),\n",
    "    (\"SELECT `City`, `Country`, `Season` FROM table_name WHERE `Rainfall (mm)` BETWEEN 200 AND 400;\",\n",
    "     \"The city, country, and season for which the average rainfall is between 200 and 400 millimeters.\"),\n",
    "    (\"SELECT `City`, `Country` FROM table_name WHERE `Season` = 'Fall' AND `Temperature (C)` > 20 ORDER BY `Temperature (C)`;\",\n",
    "     \"The city and country for which the average Fall temperature is above 20 degrees, in increasing temperature order.\"),\n",
    "    (\"SELECT SUM(`Rainfall (mm)`) FROM table_name WHERE `City` = 'Cairo';\", \"The total annual rainfall for Cairo.\"),\n",
    "    (\"SELECT `Season`, SUM(`Rainfall (mm)`) AS `Total_Rainfall` FROM table_name GROUP BY `Season`;\",\n",
    "     \"The total rainfall for each season.\")\n",
    "]\n",
    "\n",
    "# Execute the SQL queries and display the results\n",
    "for query, question in queries:\n",
    "    print(question)\n",
    "    result = conn.execute(query)\n",
    "    rows = result.fetchall()\n",
    "    for row in rows:\n",
    "        print(row)\n",
    "    print()"
   ]
  },
  {
   "cell_type": "code",
   "execution_count": 16,
   "id": "e0bcde77",
   "metadata": {},
   "outputs": [],
   "source": [
    "# Question 9\n",
    "\n",
    "words  =  ['The',  'quick',  'brown',  'fox',  'jumps',  'over', 'the',  'lazy',  'dog']"
   ]
  },
  {
   "cell_type": "code",
   "execution_count": 17,
   "id": "09212a21",
   "metadata": {},
   "outputs": [
    {
     "data": {
      "text/plain": [
       "['THE', 'QUICK', 'BROWN', 'FOX', 'JUMPS', 'OVER', 'THE', 'LAZY', 'DOG']"
      ]
     },
     "execution_count": 17,
     "metadata": {},
     "output_type": "execute_result"
    }
   ],
   "source": [
    "# a) ['THE', 'QUICK', 'BROWN', 'FOX', 'JUMPS', 'OVER', 'THE', 'LAZY', 'DOG']:\n",
    "\n",
    "words_uppercase = [word.upper() for word in words]\n",
    "words_uppercase"
   ]
  },
  {
   "cell_type": "code",
   "execution_count": 18,
   "id": "08dab633",
   "metadata": {},
   "outputs": [
    {
     "data": {
      "text/plain": [
       "['the', 'quick', 'brown', 'fox', 'jumps', 'over', 'the', 'lazy', 'dog']"
      ]
     },
     "execution_count": 18,
     "metadata": {},
     "output_type": "execute_result"
    }
   ],
   "source": [
    "# b) ['the', 'quick', 'brown', 'fox', 'jumps', 'over', 'the', 'lazy', 'dog']:\n",
    "\n",
    "words_lowercase = [word.lower() for word in words]\n",
    "words_lowercase"
   ]
  },
  {
   "cell_type": "code",
   "execution_count": 19,
   "id": "837e0498",
   "metadata": {},
   "outputs": [
    {
     "data": {
      "text/plain": [
       "[3, 5, 5, 3, 5, 4, 3, 4, 3]"
      ]
     },
     "execution_count": 19,
     "metadata": {},
     "output_type": "execute_result"
    }
   ],
   "source": [
    "# c) [3, 5, 5, 3, 5, 4, 3, 4, 3] (the list of lengths of words in words):\n",
    "\n",
    "word_lengths = [len(word) for word in words]\n",
    "word_lengths"
   ]
  },
  {
   "cell_type": "code",
   "execution_count": 20,
   "id": "6ff96fca",
   "metadata": {},
   "outputs": [
    {
     "data": {
      "text/plain": [
       "[['THE', 'the', 3],\n",
       " ['QUICK', 'quick', 5],\n",
       " ['BROWN', 'brown', 5],\n",
       " ['FOX', 'fox', 3],\n",
       " ['JUMPS', 'jumps', 5],\n",
       " ['OVER', 'over', 4],\n",
       " ['THE', 'the', 3],\n",
       " ['LAZY', 'lazy', 4],\n",
       " ['DOG', 'dog', 3]]"
      ]
     },
     "execution_count": 20,
     "metadata": {},
     "output_type": "execute_result"
    }
   ],
   "source": [
    "# d) [['THE', 'the', 3], ['QUICK', 'quick', 5], ['BROWN', 'brown', 5], ['FOX', 'fox', 3], ['JUMPS', 'jumps', 5], \n",
    "# ['OVER', 'over', 4], ['THE', 'the', 3], ['LAZY', 'lazy', 4], ['DOG', 'dog', 3]] (the list containing a list for every word of \n",
    "# list words, where each list contains the word in uppercase and lowercase and the length of the word.)\n",
    "\n",
    "word_details = [[word.upper(), word.lower(), len(word)] for word in words]\n",
    "word_details"
   ]
  },
  {
   "cell_type": "code",
   "execution_count": 21,
   "id": "e4d3bf15",
   "metadata": {},
   "outputs": [
    {
     "data": {
      "text/plain": [
       "['quick', 'brown', 'jumps', 'over', 'lazy']"
      ]
     },
     "execution_count": 21,
     "metadata": {},
     "output_type": "execute_result"
    }
   ],
   "source": [
    "# e) ['The', 'quick', 'brown', 'fox', 'jumps', 'over', 'the', 'lazy', 'dog'] (the list of words in words containing 4 or more\n",
    "# characters):\n",
    "\n",
    "words_characters = [word for word in words if len(word) >= 4]\n",
    "words_characters"
   ]
  },
  {
   "cell_type": "code",
   "execution_count": null,
   "id": "a15b1ce7",
   "metadata": {},
   "outputs": [],
   "source": []
  }
 ],
 "metadata": {
  "kernelspec": {
   "display_name": "Python 3 (ipykernel)",
   "language": "python",
   "name": "python3"
  },
  "language_info": {
   "codemirror_mode": {
    "name": "ipython",
    "version": 3
   },
   "file_extension": ".py",
   "mimetype": "text/x-python",
   "name": "python",
   "nbconvert_exporter": "python",
   "pygments_lexer": "ipython3",
   "version": "3.11.2"
  }
 },
 "nbformat": 4,
 "nbformat_minor": 5
}
